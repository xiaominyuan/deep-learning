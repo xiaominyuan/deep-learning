{
 "cells": [
  {
   "cell_type": "code",
   "execution_count": 1,
   "metadata": {},
   "outputs": [],
   "source": [
    "from datetime import datetime\n",
    "import math\n",
    "import time\n",
    "import tensorflow as tf"
   ]
  },
  {
   "cell_type": "code",
   "execution_count": 2,
   "metadata": {},
   "outputs": [],
   "source": [
    "batch_size = 32\n",
    "num_batches = 100"
   ]
  },
  {
   "cell_type": "code",
   "execution_count": 3,
   "metadata": {},
   "outputs": [],
   "source": [
    "def print_activation(tensor):\n",
    "    print(tensor.op.name,\" \", tensor.get_shape().as_list())"
   ]
  },
  {
   "cell_type": "code",
   "execution_count": 4,
   "metadata": {},
   "outputs": [],
   "source": [
    "def inference(images):\n",
    "    parameters = []\n",
    "    with tf.name_scope('conv1') as scope:\n",
    "        kernel = tf.Variable(tf.truncated_normal([11,11,3,64], dtype=tf.float32, stddev=1e-1), name='weight')\n",
    "        conv = tf.nn.conv2d(images, kernel, [1,4,4,1], padding='SAME')\n",
    "        biases = tf.Variable(tf.constant(0.0,shape=[64],dtype=tf.float32), trainable=True, name='biases')\n",
    "        bias = tf.nn.bias_add(conv, biases)\n",
    "        conv1 = tf.nn.relu(bias, name=scope)\n",
    "        print_activation(conv1)\n",
    "        parameters=parameters+[kernel,biases]\n",
    "        \n",
    "    lrn1 = tf.nn.lrn(conv1, depth_radius=4,bias=1.0, alpha=0.001/9, beta=0.75, name='lrn1')\n",
    "    pool1 = tf.nn.max_pool(lrn1, ksize=[1,3,3,1], strides=[1,2,2,1], padding='VALID', name='pool1')\n",
    "    print_activation(pool1)\n",
    "        \n",
    "    with tf.name_scope('conv2') as scope:\n",
    "        kernel = tf.Variable(tf.truncated_normal([5,5,64,192], dtype=tf.float32, stddev=1e-1),name='weight')\n",
    "        conv = tf.nn.conv2d(pool1, kernel, [1,1,1,1], padding='SAME')\n",
    "        biases = tf.Variable(tf.constant(0.0,shape=[192], dtype=tf.float32), trainable=True, name='biases')\n",
    "        bias = tf.nn.bias_add(conv, biases)\n",
    "        conv2 = tf.nn.relu(bias, name=scope)\n",
    "        parameters=parameters+[kernel,biases]\n",
    "    \n",
    "    lrn2=tf.nn.lrn(conv2,depth_radius=4,bias=1.0, alpha=0.001/9,beta=0.75, name='lrn2')\n",
    "    pool2 = tf.nn.max_pool(lrn2, ksize=[1,3,3,1], strides=[1,2,2,1], padding='VALID', name='pool2')\n",
    "    print_activation(pool2)\n",
    "    \n",
    "    with tf.name_scope('conv3') as scope:\n",
    "        kernel = tf.Variable(tf.truncated_normal([3,3,192,384],dtype=tf.float32,stddev=1e-1),name='weight')\n",
    "        conv = tf.nn.conv2d(pool2,kernel,[1,1,1,1], padding='SAME')\n",
    "        biases = tf.Variable(tf.constant(0.0,shape=[384],dtype=tf.float32),trainable=True, name='biases')\n",
    "        bias = tf.nn.bias_add(conv, biases)\n",
    "        conv3 = tf.nn.relu(bias, name=scope)\n",
    "        parameters=parameters+[kernel,biases]\n",
    "        print_activation(conv3)\n",
    "    \n",
    "    with tf.name_scope('conv4') as scope:\n",
    "        kernel = tf.Variable(tf.truncated_normal([3,3,384,256], dtype=tf.float32, stddev=1e-1),name='weight')\n",
    "        conv = tf.nn.conv2d(conv3,kernel,[1,1,1,1], padding='SAME')\n",
    "        biases = tf.Variable(tf.constant(0.0,shape=[256],dtype=tf.float32), trainable=True, name='biases')\n",
    "        bias = tf.nn.bias_add(conv,biases)\n",
    "        conv4 = tf.nn.relu(bias)\n",
    "        parameters= parameters+[kernel, biases]\n",
    "        print_activation(conv4)\n",
    "        \n",
    "    with tf.name_scope('conv5') as scope:\n",
    "        kernel = tf.Variable(tf.truncated_normal([3,3,256,256], dtype=tf.float32, stddev=1e-1), name='weight')\n",
    "        conv = tf.nn.conv2d(conv4, kernel, [1,1,1,1], padding='SAME')\n",
    "        biases = tf.Variable(tf.constant(0.0,shape=[256], dtype=tf.float32), trainable=True,name='biases')\n",
    "        bias = tf.nn.bias_add(conv, biases)\n",
    "        conv5 = tf.nn.relu(bias, name=scope)\n",
    "        parameters=parameters+[kernel,biases]\n",
    "        print_activation(conv5)\n",
    "        \n",
    "    pool5 = tf.nn.max_pool(conv5, ksize=[1,3,3,1], strides=[1,2,2,1], padding='VALID', name='pool5')\n",
    "    print_activation(pool5)\n",
    "    return pool5, parameters"
   ]
  },
  {
   "cell_type": "code",
   "execution_count": 5,
   "metadata": {},
   "outputs": [],
   "source": [
    "def time_tensorflow_run(session, target, info_string):\n",
    "    num_steps_burn_in =10\n",
    "    total_duration = 0.0\n",
    "    total_duration_squared = 0.0\n",
    "    \n",
    "    for i in range(num_batches+num_steps_burn_in):\n",
    "        start_time = time.time()\n",
    "        _=session.run(target)\n",
    "        duration = time.time()-start_time\n",
    "        if i >= num_steps_burn_in:\n",
    "            if not i%10:\n",
    "                #print('%s: step %d, duration = %.3%f' % (datetime.now(), i-num_steps_burn_in,duration))\n",
    "                print ('%s: step %d, duration = %.3f' %\n",
    "                       (datetime.now(), i - num_steps_burn_in, duration))\n",
    "            total_duration=total_duration+duration\n",
    "            total_duration_squared=total_duration_squared+duration*duration\n",
    "    mn = total_duration/num_batches\n",
    "    vr = total_duration_squared/num_batches-mn*mn\n",
    "    sd = math.sqrt(vr)\n",
    "    print('%s: %s across %d steps, %.3f +/-%.3f sec / batch' % (datetime.now(),info_string,num_batches,mn,sd))"
   ]
  },
  {
   "cell_type": "code",
   "execution_count": 8,
   "metadata": {},
   "outputs": [],
   "source": [
    "def run_benchmark():\n",
    "    with tf.Graph().as_default():\n",
    "        image_size = 224\n",
    "        images = tf.Variable(tf.random_normal([batch_size,image_size,image_size,3],dtype=tf.float32,stddev=1e-1))\n",
    "        pool5, paramters = inference(images)\n",
    "        init = tf.global_variables_initializer()\n",
    "        sess = tf.Session()\n",
    "        sess.run(init)\n",
    "        \n",
    "        time_tensorflow_run(sess,pool5,\"Forward\")\n",
    "        print(paramters)\n",
    "        objective = tf.nn.l2_loss(pool5)\n",
    "        grad = tf.gradients(objective,paramters)\n",
    "        time_tensorflow_run(sess, grad, \"Forward-backward\")\n",
    "        print(paramters)"
   ]
  },
  {
   "cell_type": "code",
   "execution_count": 9,
   "metadata": {},
   "outputs": [
    {
     "name": "stdout",
     "output_type": "stream",
     "text": [
      "conv1   [32, 56, 56, 64]\n",
      "pool1   [32, 27, 27, 64]\n",
      "pool2   [32, 13, 13, 192]\n",
      "conv3   [32, 13, 13, 384]\n",
      "conv4/Relu   [32, 13, 13, 256]\n",
      "conv5   [32, 13, 13, 256]\n",
      "pool5   [32, 6, 6, 256]\n",
      "2019-05-18 13:49:50.699957: step 0, duration = 0.300\n",
      "2019-05-18 13:49:53.505980: step 10, duration = 0.295\n",
      "2019-05-18 13:49:56.291132: step 20, duration = 0.294\n",
      "2019-05-18 13:49:59.192201: step 30, duration = 0.290\n",
      "2019-05-18 13:50:02.094975: step 40, duration = 0.301\n",
      "2019-05-18 13:50:04.892675: step 50, duration = 0.290\n",
      "2019-05-18 13:50:07.699899: step 60, duration = 0.300\n",
      "2019-05-18 13:50:10.513683: step 70, duration = 0.222\n",
      "2019-05-18 13:50:13.404341: step 80, duration = 0.290\n",
      "2019-05-18 13:50:16.291967: step 90, duration = 0.295\n",
      "2019-05-18 13:50:18.811226: Forward across 100 steps, 0.284 +/-0.032 sec / batch\n",
      "[<tf.Variable 'conv1/weight:0' shape=(11, 11, 3, 64) dtype=float32_ref>, <tf.Variable 'conv1/biases:0' shape=(64,) dtype=float32_ref>, <tf.Variable 'conv2/weight:0' shape=(5, 5, 64, 192) dtype=float32_ref>, <tf.Variable 'conv2/biases:0' shape=(192,) dtype=float32_ref>, <tf.Variable 'conv3/weight:0' shape=(3, 3, 192, 384) dtype=float32_ref>, <tf.Variable 'conv3/biases:0' shape=(384,) dtype=float32_ref>, <tf.Variable 'conv4/weight:0' shape=(3, 3, 384, 256) dtype=float32_ref>, <tf.Variable 'conv4/biases:0' shape=(256,) dtype=float32_ref>, <tf.Variable 'conv5/weight:0' shape=(3, 3, 256, 256) dtype=float32_ref>, <tf.Variable 'conv5/biases:0' shape=(256,) dtype=float32_ref>]\n",
      "2019-05-18 13:50:27.835895: step 0, duration = 0.784\n",
      "2019-05-18 13:50:35.947700: step 10, duration = 0.821\n",
      "2019-05-18 13:50:43.940225: step 20, duration = 0.798\n",
      "2019-05-18 13:50:51.951187: step 30, duration = 0.800\n",
      "2019-05-18 13:50:59.930597: step 40, duration = 0.787\n",
      "2019-05-18 13:51:08.050367: step 50, duration = 0.810\n",
      "2019-05-18 13:51:16.039161: step 60, duration = 0.788\n",
      "2019-05-18 13:51:24.147071: step 70, duration = 0.816\n",
      "2019-05-18 13:51:32.144645: step 80, duration = 0.804\n",
      "2019-05-18 13:51:40.248652: step 90, duration = 0.803\n",
      "2019-05-18 13:51:47.546322: Forward-backward across 100 steps, 0.805 +/-0.021 sec / batch\n",
      "[<tf.Variable 'conv1/weight:0' shape=(11, 11, 3, 64) dtype=float32_ref>, <tf.Variable 'conv1/biases:0' shape=(64,) dtype=float32_ref>, <tf.Variable 'conv2/weight:0' shape=(5, 5, 64, 192) dtype=float32_ref>, <tf.Variable 'conv2/biases:0' shape=(192,) dtype=float32_ref>, <tf.Variable 'conv3/weight:0' shape=(3, 3, 192, 384) dtype=float32_ref>, <tf.Variable 'conv3/biases:0' shape=(384,) dtype=float32_ref>, <tf.Variable 'conv4/weight:0' shape=(3, 3, 384, 256) dtype=float32_ref>, <tf.Variable 'conv4/biases:0' shape=(256,) dtype=float32_ref>, <tf.Variable 'conv5/weight:0' shape=(3, 3, 256, 256) dtype=float32_ref>, <tf.Variable 'conv5/biases:0' shape=(256,) dtype=float32_ref>]\n"
     ]
    }
   ],
   "source": [
    "run_benchmark()"
   ]
  }
 ],
 "metadata": {
  "kernelspec": {
   "display_name": "Python3 (PySpark)",
   "language": "python",
   "name": "python3"
  },
  "language_info": {
   "codemirror_mode": {
    "name": "ipython",
    "version": 3
   },
   "file_extension": ".py",
   "mimetype": "text/x-python",
   "name": "python",
   "nbconvert_exporter": "python",
   "pygments_lexer": "ipython3",
   "version": "3.6.4"
  }
 },
 "nbformat": 4,
 "nbformat_minor": 2
}
